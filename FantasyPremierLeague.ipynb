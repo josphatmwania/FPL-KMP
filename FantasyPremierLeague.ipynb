{
 "cells": [
  {
   "cell_type": "code",
   "execution_count": null,
   "metadata": {
    "collapsed": true
   },
   "outputs": [],
   "source": [
    "import dev.johnoreilly.common.data.remote.FantasyPremierLeagueApi\n",
    "import dev.johnoreilly.common.di.initKoin\n",
    "import dev.johnoreilly.common.domain.entities.Player\n",
    "import kotlinx.coroutines.runBlocking\n",
    "%use kandy\n",
    "%use dataframe\n",
    "\n",
    "val koin = initKoin().koin\n",
    "val api = koin.get<FantasyPremierLeagueApi>()\n",
    " "
   ]
  },
  {
   "cell_type": "code",
   "execution_count": null,
   "outputs": [],
   "source": [
    "val staticInfo = runBlocking { api.fetchBootstrapStaticInfo() }\n",
    "val eventStatus = runBlocking { api.fetchEventStatus() }\n"
   ],
   "metadata": {
    "collapsed": false
   }
  },
  {
   "cell_type": "code",
   "execution_count": null,
   "outputs": [],
   "source": [
    "val players = staticInfo.elements.sortedByDescending { it.total_points }.take(100)\n",
    "val player = players[0]"
   ],
   "metadata": {
    "collapsed": false
   }
  },
  {
   "cell_type": "code",
   "execution_count": null,
   "outputs": [],
   "source": [
    "players.toDataFrame()[\"id\", \"web_name\", \"total_points\", \"selected_by_percent\"]"
   ],
   "metadata": {
    "collapsed": false
   }
  },
  {
   "cell_type": "code",
   "execution_count": null,
   "outputs": [],
   "source": [
    "val upcomingFixtures = runBlocking { api.fetchUpcomingFixtures() }\n",
    "upcomingFixtures.toDataFrame()"
   ],
   "metadata": {
    "collapsed": false
   }
  },
  {
   "cell_type": "code",
   "execution_count": null,
   "outputs": [],
   "source": [
    "val playerData = runBlocking { api.fetchPlayerData(player.id) }\n",
    "val playerHistory = playerData.history\n",
    "val playerHistoryDataFrame = playerHistory.toDataFrame()"
   ],
   "metadata": {
    "collapsed": false
   }
  },
  {
   "cell_type": "code",
   "execution_count": null,
   "outputs": [],
   "source": [
    "\n",
    "playerHistoryDataFrame.plot { \n",
    "    layout.title = player.web_name\n",
    "    bars {\n",
    "        x(round) { axis.name = \"Fixture\" }\n",
    "        y(total_points) { axis.name = \"Points\" }\n",
    "    }\n",
    "}"
   ],
   "metadata": {
    "collapsed": false
   }
  },
  {
   "cell_type": "code",
   "execution_count": null,
   "outputs": [],
   "source": [
    "val fixtures =  playerHistory.map { it.round }\n",
    "val totalPoints = playerHistory.map { it.total_points }\n",
    "val goalsScored = playerHistory.map { it.goals_scored }\n",
    "val assists = playerHistory.map { it.assists }\n",
    "val dataset = dataFrameOf(\"fixture\" to fixtures, \"totalPoints\" to totalPoints,\n",
    "    \"goalsScored\" to goalsScored, \"assists\" to assists\n",
    ").gather(\"totalPoints\", \"goalsScored\", \"assists\").into(\"stat\", \"total\")\n",
    "\n",
    "dataset.groupBy(\"stat\").plot {\n",
    "    layout.title = player.web_name\n",
    "    layout.size = 800 to 300\n",
    "    bars {\n",
    "        x(\"fixture\")\n",
    "        y(\"total\")\n",
    "        fillColor(\"stat\") \n",
    "        position = Position.stack()\n",
    "    }\n",
    "}"
   ],
   "metadata": {
    "collapsed": false
   }
  },
  {
   "cell_type": "code",
   "execution_count": null,
   "outputs": [],
   "source": [
    "staticInfo.events.toDataFrame()"
   ],
   "metadata": {
    "collapsed": false
   }
  },
  {
   "cell_type": "code",
   "execution_count": null,
   "outputs": [],
   "source": [
    "staticInfo.teams.toDataFrame()"
   ],
   "metadata": {
    "collapsed": false
   }
  },
  {
   "cell_type": "code",
   "execution_count": null,
   "outputs": [],
   "source": [],
   "metadata": {
    "collapsed": false
   }
  }
 ],
 "metadata": {
  "kernelspec": {
   "display_name": "Kotlin",
   "language": "kotlin",
   "name": "kotlin"
  },
  "language_info": {
   "name": "kotlin",
   "version": "1.9.0",
   "mimetype": "text/x-kotlin",
   "file_extension": ".kt",
   "pygments_lexer": "kotlin",
   "codemirror_mode": "text/x-kotlin",
   "nbconvert_exporter": ""
  },
  "ktnbPluginMetadata": {
   "projectDependencies": [
    "FantasyPremierLeague.common.commonMain",
    "FantasyPremierLeague.common.jvmMain"
   ]
  }
 },
 "nbformat": 4,
 "nbformat_minor": 0
}
